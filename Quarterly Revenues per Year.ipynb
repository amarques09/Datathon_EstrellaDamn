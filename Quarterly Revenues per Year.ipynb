{
 "cells": [
  {
   "cell_type": "markdown",
   "metadata": {},
   "source": [
    "# Quarterly Revenues per Year"
   ]
  },
  {
   "cell_type": "code",
   "execution_count": 9,
   "metadata": {},
   "outputs": [],
   "source": [
    "df['month']=df['Date'].dt.month\n",
    "df['Year']=df['Date'].dt.year"
   ]
  },
  {
   "cell_type": "code",
   "execution_count": 10,
   "metadata": {},
   "outputs": [],
   "source": [
    "df['Year']=df['Date'].dt.year"
   ]
  },
  {
   "cell_type": "code",
   "execution_count": 11,
   "metadata": {},
   "outputs": [
    {
     "data": {
      "text/plain": [
       "Year\n",
       "2017    8.494295e+07\n",
       "2018    8.620543e+07\n",
       "2019    6.203108e+07\n",
       "Name: ventas_valor, dtype: float64"
      ]
     },
     "execution_count": 11,
     "metadata": {},
     "output_type": "execute_result"
    }
   ],
   "source": [
    "plot1 = df.groupby(\"Year\")[\"ventas_valor\"].sum()\n",
    "plot1"
   ]
  },
  {
   "cell_type": "code",
   "execution_count": 12,
   "metadata": {},
   "outputs": [
    {
     "name": "stdout",
     "output_type": "stream",
     "text": [
      "month\n",
      "1     5.135999\n",
      "2     5.398049\n",
      "3     6.715178\n",
      "4     6.404361\n",
      "5     6.588521\n",
      "6     8.456365\n",
      "7     7.828515\n",
      "8     7.040624\n",
      "9     5.327700\n",
      "10    3.688542\n",
      "11    3.746662\n",
      "12    4.492068\n",
      "Name: ventas_volumen, dtype: float64\n"
     ]
    }
   ],
   "source": [
    "sales_volume_month = df.groupby('month')[\"ventas_volumen\"].sum()/ sum(df[\"ventas_valor\"])*100\n",
    "print(sales_volume_month)"
   ]
  },
  {
   "cell_type": "code",
   "execution_count": 13,
   "metadata": {},
   "outputs": [
    {
     "data": {
      "text/plain": [
       "<matplotlib.axes._subplots.AxesSubplot at 0x1d9001d0438>"
      ]
     },
     "execution_count": 13,
     "metadata": {},
     "output_type": "execute_result"
    },
    {
     "data": {
      "image/png": "[encoded data removed]",
      "text/plain": [
       "<Figure size 576x360 with 1 Axes>"
      ]
     },
     "metadata": {
      "needs_background": "light"
     },
     "output_type": "display_data"
    }
   ],
   "source": [
    "sales_volume_month.plot(kind='bar',stacked=False,legend=False, figsize=(8,5), colormap = \"tab20c\", grid = True)"
   ]
  },
  {
   "cell_type": "code",
   "execution_count": 14,
   "metadata": {},
   "outputs": [],
   "source": [
    "df['quarter'] = pd.PeriodIndex(df.Date, freq='Q')"
   ]
  },
  {
   "cell_type": "code",
   "execution_count": 15,
   "metadata": {},
   "outputs": [
    {
     "data": {
      "text/plain": [
       "Text(0, 0.5, 'Total Revenues')"
      ]
     },
     "execution_count": 15,
     "metadata": {},
     "output_type": "execute_result"
    },
    {
     "data": {
      "image/png": "[encoded data removed]",
      "text/plain": [
       "<Figure size 432x288 with 1 Axes>"
      ]
     },
     "metadata": {
      "needs_background": "light"
     },
     "output_type": "display_data"
    }
   ],
   "source": [
    "rep_plot = df.groupby(\"quarter\")[\"ventas_valor\"].sum().plot(kind='bar')\n",
    "rep_plot.set_xlabel(\"quarter\")\n",
    "rep_plot.set_ylabel(\"Total Revenues\")"
   ]
  },
  {
   "cell_type": "code",
   "execution_count": 25,
   "metadata": {},
   "outputs": [],
   "source": [
    "y1 = df[df.Year==2017]\n",
    "y2 = df[df.Year==2018]\n",
    "y3= df[df.Year==2019]"
   ]
  },
  {
   "cell_type": "code",
   "execution_count": 30,
   "metadata": {},
   "outputs": [],
   "source": [
    "x = df.groupby(\"quarter\")[\"ventas_valor\"].sum()"
   ]
  },
  {
   "cell_type": "code",
   "execution_count": 35,
   "metadata": {},
   "outputs": [
    {
     "data": {
      "text/plain": [
       "<matplotlib.legend.Legend at 0x1da10e2a6a0>"
      ]
     },
     "execution_count": 35,
     "metadata": {},
     "output_type": "execute_result"
    },
    {
     "data": {
      "image/png": "[encoded data removed]",
      "text/plain": [
       "<Figure size 432x288 with 1 Axes>"
      ]
     },
     "metadata": {
      "needs_background": "light"
     },
     "output_type": "display_data"
    }
   ],
   "source": [
    "#plt.plot( 'x', 'y1', data=df, marker='o', markerfacecolor='blue', markersize=12, color='skyblue', linewidth=4)\n",
    "#plt.plot( 'x', 'y2', data=df, marker='', color='olive', linewidth=2)\n",
    "#plt.plot( 'x', 'y3', data=df, marker='', color='olive', linewidth=2, linestyle='dashed', label=\"2019\")\n",
    "#plt.legend()"
   ]
  },
  {
   "cell_type": "code",
   "execution_count": null,
   "metadata": {},
   "outputs": [],
   "source": [
    "layout = go.Layout(\n",
    "    title='Quarterly Revenues over the years')\n",
    "\n",
    "trace_1 = go.Scatter(\n",
    "    x= df.groupby(\"quarter\")[\"ventas_valor\"].sum(),\n",
    "    y= df[df.Year==2017],\n",
    "    name = \"Quarterly Revenues 2017\",\n",
    "    line = dict(color = '#6C3483'),\n",
    "    opacity = 0.8)\n",
    "\n",
    "trace_2 = go.Scatter(\n",
    "    x= df.groupby(\"quarter\")[\"ventas_valor\"].sum(),\n",
    "    y= df[df.Year==2018],\n",
    "    name = \"Quarterly Revenues 2018\",\n",
    "    line = dict(color = '#1E8449'),\n",
    "    opacity = 0.8)\n",
    "\n",
    "trace_3 =  go.Scatter(\n",
    "    x= df.groupby(\"quarter\")[\"ventas_valor\"].sum(),\n",
    "    y= df[df.Year==2019],\n",
    "    name = \"Quarterly Revenues 2019\",\n",
    "    line = dict(color = '#1E8449'),\n",
    "    opacity = 0.8)\n",
    "\n",
    "\n",
    "data = [trace_1,trace_2,trace_3]\n",
    "fig = dict(data=data)\n",
    "plotly.iplot(fig)"
   ]
  }
 ],
 "metadata": {
  "kernelspec": {
   "display_name": "Python 3",
   "language": "python",
   "name": "python3"
  },
  "language_info": {
   "codemirror_mode": {
    "name": "ipython",
    "version": 3
   },
   "file_extension": ".py",
   "mimetype": "text/x-python",
   "name": "python",
   "nbconvert_exporter": "python",
   "pygments_lexer": "ipython3",
   "version": "3.7.3"
  }
 },
 "nbformat": 4,
 "nbformat_minor": 4
}
